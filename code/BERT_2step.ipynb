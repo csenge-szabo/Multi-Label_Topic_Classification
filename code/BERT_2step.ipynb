{
  "cells": [
    {
      "cell_type": "markdown",
      "metadata": {
        "colab_type": "text",
        "id": "kT5-oqMPB6vp"
      },
      "source": [
        "# Fine Tuning BERT for MultiLabel Text Classification (Two-step approach)"
      ]
    },
    {
      "cell_type": "markdown",
      "metadata": {
        "colab_type": "text",
        "id": "I4R39UTxNKTk"
      },
      "source": [
        "### Introduction\n",
        "\n",
        "Source code: [https://github.com/abhimishra91/transformers-tutorials/blob/master/transformers_multi_label_classification.ipynb]\n",
        "\n",
        "In this notebook we will be fine-tuning a BERT model for the **Multilabel Topic Classification** task. \n",
        "This is a common problem where a given piece of text/sentence/document can be classified into one or more of categories out of a predefined list of labels.\n",
        "\n",
        "#### Flow of the notebook\n",
        "\n",
        "The notebook will be divided into seperate sections to provide a organized walk through for the process used. This process can be modified for individual use cases. The sections are:\n",
        "\n",
        "1. [Imports](#section01)\n",
        "2. [Helper functions](#section02)\n",
        "3. [Pre-processing the domain data](#section03)\n",
        "4. [Model training](#section04)\n",
        "5. [Validation](#section05)\n",
        "6. [Saving the trained model and vocabulary](#section06)\n",
        "7. [Evaluate on test data](#section07)\n",
        "\n",
        "#### Technical Details\n",
        "\n",
        "This script leverages on multiple tools, see the details below. Please ensure that these elements are present in your setup to successfully implement this script.\n",
        "\n",
        " - Data: \n",
        "\t - We are using a dataset provided by a Dutch governmental institution\n",
        "\t - We are using the split dataset for the process: `train.csv`,  `validation.csv`,  `test.csv`\n",
        "\t - We are also using additional training sets as a result of data augmentation: `undersampled_train.csv` and `oversampled_train.csv`\n",
        "\t - There are rows of data. Where each row has the following data-points: \n",
        "\t\t - ID\n",
        "\t\t - Text\n",
        "\t\t - Label values (0 or 1) for each category\n",
        "\n",
        "Each text instance can be marked for multiple topics. If the comment is about `Processes` and `Handling`, then for both those headers the value will be `1` and for the others it will be `0` in the data.\n",
        "\n",
        " - Language Model Used:\n",
        "\t - BERT is used for this project. It is the transformer model created by the Google AI Team.  \n",
        "\t - [Blog-Post](https://ai.googleblog.com/2018/11/open-sourcing-bert-state-of-art-pre.html)\n",
        "\t - [Research Paper](https://arxiv.org/abs/1810.04805)\n",
        "     - [Documentation for python](https://huggingface.co/transformers/model_doc/bert.html)\n",
        "\n",
        " - Hardware Requirements:\n",
        "\t - Python 3.7.8 and above\n",
        "\t - Pytorch, Transformers and all the imported Python libraries\n",
        "\t - GPU enabled setup \n",
        "\n",
        " - Script Objective:\n",
        "\t - The objective of this script is to fine tune BERT to be able to label a text instance into the following categories:\n",
        "\t\t - main topics:`Making contact with employee`, `Processes`, `Digital possibilities`, `General experience`, `Information provision`, `Employee attitude & behavior`, `Handling`, `No topic found`, `Knowledge & skills of employee`, `Price & quality`, `Physical service provision`\n",
        "\t\t - subtopics:`Waiting time`, `Speaking to the right person`, `Correctness of handling`, `Functionalities web & app`, `Ease of process`, `Reception & Registration`, `Friendliness`, `Quality of information`, `Information provision web & app`, `Clarity of information`, `Solution oriented`, `Availability of employee`, `Price & costs`, `Speed of processing`, `Professionalism`, `Opening hours & accessibility`, `Ease of use web & app`, `Keeping up to date`, `Integrity & fulfilling responsibilities`, `Payout & return`, `No subtopic found`, `Quality of customer service`, `Facilities`, `Objection & evidence`, `General experience subtopic`, `Efficiency of process`, `Genuine interest`, `Expertise`, `Helpfulness`, `Personal approach`, `Communication`\n",
        "\t\t - The model predicts if a given instance belongs to or does not belong to all of the listed topic labels\n",
        "\t\t - The script was designed for two-step classification, meaning the model first predicts the probabilities for the main topics. Then the model is used again to predict the corresponding subtopics based on the main topic predictions in the first phase. For example, if the model only predicted the presence of `Price & quality` for a given data instance, it can only consider the subtopics `Price & costs` and `Payout & return` and in the second phase.\n",
        "\n",
        "---\n",
        "***NOTE***\n",
        "- *It is to be noted that the overall mechanisms for a multiclass and multilabel problems are similar, except for few differences namely:*\n",
        "\t- *Loss function is designed to evaluate all the probability of categories individually rather than as compared to other categories. Hence the use of `BCE` rather than `Cross Entropy` when defining loss.*\n",
        "\t- *Sigmoid of the outputs calcuated to rather than Softmax. Again for the reasons defined in the previous point*\n",
        "\t- *The [classification report](https://scikit-learn.org/stable/modules/generated/sklearn.metrics.classification_report.html#sklearn.metrics.classification_report), specifically [F1 scores](https://scikit-learn.org/stable/modules/generated/sklearn.metrics.f1_score.html#sklearn.metrics.f1_score) used from sklearn package as compared to direct comparison of expected vs predicted*\n",
        "---"
      ]
    },
    {
      "cell_type": "markdown",
      "metadata": {
        "colab_type": "text",
        "id": "-FA0wthINIsH"
      },
      "source": [
        "<a id='section01'></a>\n",
        "### Imports\n",
        "\n",
        "In the next step we will be importing the libraries and modules needed to run our script."
      ]
    },
    {
      "cell_type": "code",
      "execution_count": null,
      "metadata": {
        "colab": {},
        "colab_type": "code",
        "id": "zHxRRzqpBf76"
      },
      "outputs": [],
      "source": [
        "# Importing libraries\n",
        "import numpy as np\n",
        "import pandas as pd\n",
        "from sklearn.metrics import classification_report, hamming_loss\n",
        "import torch\n",
        "from torch.utils.data import DataLoader\n",
        "from transformers import BertTokenizer, set_seed\n",
        "from torch import cuda\n",
        "from utils import *"
      ]
    },
    {
      "cell_type": "markdown",
      "metadata": {},
      "source": [
        "We start with defining few key variables that will be used later during the training/fine-tuning stage. A label map will be defined mapping topic labels to integers, and a random seed will be set for reproducibility. Followed by that we will preapre the device for CUDA execeution. This configuration is needed if you want to leverage on onboard GPU. "
      ]
    },
    {
      "cell_type": "code",
      "execution_count": null,
      "metadata": {},
      "outputs": [],
      "source": [
        "# Defining parameters used during training\n",
        "# Set seed for reproducibility\n",
        "set_seed(123)\n",
        "# Padd or truncate text instances to a specific length. Since the longest instance in the dataset has 416 tokens, we chose this number\n",
        "MAX_LEN = 128\n",
        "# Number of batches, during hyper-parameter tuning we can change this value to 16/32/64\n",
        "BATCH_SIZE = 8\n",
        "# Number of epochs during model training\n",
        "EPOCHS = 5\n",
        "# Learning rate determines the steps taken during training, during hyper-parameter tuning we can change this value to 3e-05\n",
        "LEARNING_RATE = 2e-05\n",
        "# Instances are considered to have a given label if their probability is above 50% as set below\n",
        "THRESHOLD = 0.5\n",
        "# Number of main topic labels in the data\n",
        "NUM_LABELS = 11\n",
        "# The model used for the experiments\n",
        "tokenizer = BertTokenizer.from_pretrained('bert-base-uncased')\n",
        "# Setting up the device for GPU usage if available, otherwise default to CPU use\n",
        "device = 'cuda' if cuda.is_available() else 'cpu'\n",
        "\n",
        "# Dictionary of main topic labels and their ids - this will be used to convert string labels to numbers\n",
        "label_map_mt = {\n",
        "    '0': 'Making contact with employee','1': 'Processes','2': 'Digital possibilities','3': 'General experience','4': 'Information provision','5': 'Employee attitude & behavior','6': 'Handling','7': 'No topic found','8': 'Knowledge & skills of employee',\n",
        "    '9': 'Price & quality','10': 'Physical service provision'}\n",
        "\n",
        "# Dictionary mapping main topics to their corresponding subtopics, will be used in Phase 2 of model training\n",
        "label_map = {\n",
        "    'Processes': ['Ease of process', 'Efficiency of process'], \n",
        "    'Making contact with employee': ['Waiting time', 'Availability of employee', 'Speaking to the right person'], \n",
        "    'Digital possibilities': [ 'Functionalities web & app', 'Information provision web & app', 'Ease of use web & app'], \n",
        "    'General experience': ['General experience subtopic'], \n",
        "    'Information provision': ['Clarity of information', 'Quality of information','Communication',  'Integrity & fulfilling responsibilities', 'Keeping up to date'], \n",
        "    'Employee attitude & behavior': ['Friendliness','Helpfulness', 'Personal approach','Genuine interest'], \n",
        "    'Handling': ['Speed of processing','Correctness of handling','Objection & evidence'], \n",
        "    'No topic found': ['No subtopic found'], \n",
        "    'Knowledge & skills of employee': ['Solution oriented','Expertise', 'Quality of customer service', 'Professionalism'], \n",
        "    'Price & quality': ['Price & costs', 'Payout & return'], \n",
        "    'Physical service provision': ['Reception & Registration',  'Opening hours & accessibility', 'Facilities']\n",
        "    }\n",
        "\n",
        "training_path = '../data/train.csv' # or '../data/oversampled_train.csv', '../undersampled_train.csv'\n",
        "valid_path = '../data/validation.csv'\n",
        "test_path = '../data/test.csv'"
      ]
    },
    {
      "cell_type": "markdown",
      "metadata": {},
      "source": [
        "### Helper Functions\n",
        "<a id='section02'></a>\n",
        "\n",
        "*The helper functions are all located in utils.py. The description of the functions can be found below.*\n",
        "\n",
        "#### Preparing the Dataset and Dataloader\n",
        "##### *MultiLabelDataset* Class\n",
        "- This class is defined to accept the `tokenizer`, `dataframe` and `max_length` as input and generate tokenized output and tags that is used by the BERT model for training. \n",
        "- We are using the BERT tokenizer to tokenize the data in the `text` column of the dataframe.\n",
        "- The tokenizer uses the `encode_plus` method to perform tokenization and generate the necessary outputs, namely: `ids`, `attention_mask`, `token_type_ids`\n",
        "\n",
        "- `targets` is the list of classes labled as `0` or `1` in the dataframe. \n",
        "- The *MultiLabelDataset* class is used to create 3 datasets, for training, for validation and for testing.\n",
        "- *Training Dataset* is used to train the model.\n",
        "- *Validation Dataset* can be used for hyper-parameter tuning. The model has not seen this data during training.\n",
        "- *Test Dataset* is used to evaluate the performance of the model. The model has not seen this data during training.\n",
        "\n",
        "##### Dataloader\n",
        "- Dataloader is used for creating training, validation and test dataloader that load the data to the neural network in a defined manner. This is needed because all the data from the dataset cannot be loaded to the memory at once, hence the amount of dataloaded to the memory and then passed to the neural network needs to be controlled.\n",
        "- This control is achieved using the parameters such as `batch_size` and `max_len`.\n",
        "- Training and Validation dataloaders are used in the training and validation part of the flow respectively.\n",
        "\n",
        "#### *BERTClass*\n",
        " - We will be creating a neural network with the `BERTClass`. \n",
        " - This network will have the `BERT` model.  Follwed by a `Droput` and `Linear Layer`. They are added for the purpose of **Regularization** and **Classification** respectively. \n",
        " - In the forward loop, there are 2 outputs from the `BERTClass` layer.\n",
        " - The second output `output_1` or called the `pooled output` is passed to the `Drop Out layer` and the subsequent output is given to the `Linear layer`. \n",
        " - Keep note the number of dimensions for `Linear Layer` is **42** because that is the total number of topics in which we are looking to classify our model.\n",
        " - The data will be fed to the `BERTClass` as defined in the dataset. \n",
        " - Final layer outputs will be used to calcuate the loss and to determine the accuracy of models prediction. \n",
        " - We will initiate an instance of the network called `model`. This instance will be used for training and then to save the final trained model for future inference. \n",
        " \n",
        "#### Loss Function and Optimizer\n",
        " - The Loss is defined in the `loss_fn` function.\n",
        " - As defined above, the loss function used will be a combination of Binary Cross Entropy which is implemented as [BCELogits Loss](https://pytorch.org/docs/stable/nn.html#bcewithlogitsloss) in PyTorch\n",
        " - `Optimizer` (Adam optimizer) is defined in the next cell.\n",
        " - `Optimizer` is used to update the weights of the neural network to improve its performance.\n",
        "\n",
        "#### Further Reading\n",
        "- [Pytorch Documentation for Loss Function](https://pytorch.org/docs/stable/nn.html#loss-functions)\n",
        "- [Pytorch Documentation for Optimizer](https://pytorch.org/docs/stable/optim.html)\n",
        "- [Pytorch Documentation for Scheduler](https://pytorch.org/docs/stable/generated/torch.optim.lr_scheduler.StepLR.html)\n",
        "- Refer to the links provided on the top of the notebook to read more about `BertModel`. \n",
        "\n",
        "#### Training the Model\n",
        "\n",
        "We define a training function that trains the model on the training dataset created above, specified number of times (EPOCH). An epoch defines how many times the complete data will be passed through the network. \n",
        "The following events happen in this function to fine-tune the neural network:\n",
        "- The dataloader passes data to the model based on the batch size. \n",
        "- Subsequent output from the model and the actual labels are compared to calculate the loss. \n",
        "- Loss value is used to optimize the weights of the neurons in the network.\n",
        "- After every 500 steps the loss value is printed out.\n",
        "\n",
        "#### Validating the model\n",
        "\n",
        "During the validation stage we pass the unseen data (validation dataset) to the model. This step determines how good the model performs on the unseen data. This validation data is 10% of the full dataset. During the validation stage the weights of the model are not updated. Only the final output is compared to the actual value. This comparison is then used to calculate the performance of the model. To get a measure of the model's performance we are using the classification report and hamming loss from scikit-learn. "
      ]
    },
    {
      "cell_type": "markdown",
      "metadata": {
        "colab_type": "text",
        "id": "6RJt2gnlNKT3"
      },
      "source": [
        "<a id='section03'></a>\n",
        "### Pre-processing the domain data\n",
        "\n",
        "We will be working with the data and preparing for fine tuning purposes. \n",
        "\n",
        "*Assuming that the `train.csv`, `validation.csv` and `test.csv` are  saved in the `data` folder*\n",
        "\n",
        "* A new dataframe is made and input text is stored in the **text** column.\n",
        "* Taking the values of all the classes and coverting it into a list.\n",
        "* The list is appened as a new column names as **labels**."
      ]
    },
    {
      "cell_type": "code",
      "execution_count": null,
      "metadata": {},
      "outputs": [],
      "source": [
        "# Load datasets and keep the 'id' column\n",
        "train_data = pd.read_csv(training_path, sep=';')\n",
        "validation_data = pd.read_csv(valid_path, sep=';')\n",
        "test_data = pd.read_csv(test_path, sep=';')\n",
        "\n",
        "# Create new DataFrames\n",
        "train_df = pd.DataFrame({\n",
        "    'id': train_data['id'],\n",
        "    'text': train_data['text'],\n",
        "    'labels': train_data.iloc[:, 2:13].values.tolist()  # 'text' is the first column and 'id' is the second. We only take the main topic labels.\n",
        "})\n",
        "\n",
        "val_df = pd.DataFrame({\n",
        "    'id': validation_data['id'],\n",
        "    'text': validation_data['text'],\n",
        "    'labels': validation_data.iloc[:, 2:13].values.tolist()\n",
        "})\n",
        "\n",
        "test_df = pd.DataFrame({\n",
        "    'id': test_data['id'],\n",
        "    'text': test_data['text'],\n",
        "    'labels': test_data.iloc[:, 2:13].values.tolist()\n",
        "})"
      ]
    },
    {
      "cell_type": "code",
      "execution_count": null,
      "metadata": {
        "colab": {
          "base_uri": "https://localhost:8080/",
          "height": 68
        },
        "colab_type": "code",
        "id": "qOZWsLfGDOBG",
        "outputId": "8ebb8e94-4f9f-4db6-89f4-20a30217cc15"
      },
      "outputs": [],
      "source": [
        "# Creating the dataset and dataloader for the neural network\n",
        "print(\"TRAIN Dataset: {}\".format(train_df.shape))\n",
        "print(\"VALID Dataset: {}\".format(val_df.shape))\n",
        "print(\"TEST Dataset: {}\".format(test_df.shape))\n",
        "\n",
        "training_set = MultiLabelDataset(train_df, tokenizer, MAX_LEN)\n",
        "validation_set = MultiLabelDataset(val_df, tokenizer, MAX_LEN)\n",
        "test_set = MultiLabelDataset(test_df, tokenizer, MAX_LEN)\n",
        "\n",
        "training_loader = DataLoader(training_set, batch_size=BATCH_SIZE, shuffle=True)\n",
        "validation_loader = DataLoader(validation_set, batch_size=BATCH_SIZE, shuffle=False)\n",
        "test_loader = DataLoader(test_set, batch_size=BATCH_SIZE, shuffle=False)"
      ]
    },
    {
      "cell_type": "markdown",
      "metadata": {
        "colab_type": "text",
        "id": "yU4TWUBtNKUN"
      },
      "source": [
        "### Model Training\n",
        "<a id='section04'></a>\n",
        "\n",
        "We define an optimizer and a scheduler to be used during training. We loop through the number of epochs and call the train function. The Adam optimizer is used alongsize a scheduler. The scheduler decays the learning rate of each parameter group by gamma for each epoch. We train the model for main topic prediction."
      ]
    },
    {
      "cell_type": "code",
      "execution_count": null,
      "metadata": {},
      "outputs": [],
      "source": [
        "model = BERTClass(NUM_LABELS)\n",
        "model.to(device)\n",
        "optimizer = torch.optim.Adam(params=model.parameters(), lr=LEARNING_RATE)\n",
        "scheduler = torch.optim.lr_scheduler.StepLR(optimizer, step_size=1, gamma=0.95)"
      ]
    },
    {
      "cell_type": "code",
      "execution_count": null,
      "metadata": {
        "colab": {
          "base_uri": "https://localhost:8080/",
          "height": 153
        },
        "colab_type": "code",
        "id": "Reta6H84DcJq",
        "outputId": "dd66c704-9c33-4815-828c-b552e7b5cf5e"
      },
      "outputs": [],
      "source": [
        "for epoch in range(EPOCHS): \n",
        "    train(model, device, training_loader, epoch, optimizer, scheduler)"
      ]
    },
    {
      "cell_type": "markdown",
      "metadata": {
        "colab_type": "text",
        "id": "AFv7mNcuNKUh"
      },
      "source": [
        "### Validation\n",
        "<a id='section05'></a>\n",
        "\n",
        "#### Phase 1: Main topics\n",
        "\n",
        "We use the validation function and the validation_loader to evaluate model performance given the model's parameters. The model's main topic predictions are saved to a CSV file output, and we also save the model for future use."
      ]
    },
    {
      "cell_type": "code",
      "execution_count": null,
      "metadata": {},
      "outputs": [],
      "source": [
        "outputs, targets = validation(model, validation_loader, device)\n",
        "outputs = np.array(outputs) >= THRESHOLD\n",
        "outputs = np.array(outputs, dtype=int)\n",
        "targets = np.array(targets, dtype=int)\n",
        "target_names = [label_map_mt[str(i)] for i in range(outputs.shape[1])]\n",
        "\n",
        "# Create DataFrame for results and save to CSV\n",
        "results_df = pd.DataFrame(outputs, columns=target_names)\n",
        "results_df['id'] = val_df['id'].values  # Adding ID for reference\n",
        "results_df['text'] = val_df['text'].values  # Adding text for reference\n",
        "results_df = results_df[['id', 'text'] + target_names]\n",
        "results_df.to_csv('../model_predictions/bert_predictions_valid_maintopics.csv', sep=';', index=False) # or '../model_predictions/bert_predictions_valid_maintopics_undersampled.csv' / '../model_predictions/bert_predictions_valid_maintopics_oversampled.csv'\n"
      ]
    },
    {
      "cell_type": "markdown",
      "metadata": {},
      "source": [
        "#### Phase 2: Subtopics\n",
        "We are Training the model and using it for predicting subtopics. For this we take the saved CSV file, which was the result of the previous phase. We train the model for each combination of main topic and corresponding subtopics and use it for prediction. We store the final results in a CSV file. We inspect the performance by comparing model predictions against the gold data.\n"
      ]
    },
    {
      "cell_type": "code",
      "execution_count": null,
      "metadata": {},
      "outputs": [],
      "source": [
        "# Load the predictions of phase 1\n",
        "main_topic_predictions_df = pd.read_csv('../model_predictions/bert_predictions_valid_maintopics.csv', sep=';')  # or '../model_predictions/bert_predictions_valid_maintopics_undersampled.csv' / '../model_predictions/bert_predictions_valid_maintopics_oversampled.csv'\n",
        "\n",
        "# Create new columns for the subtopics in the dataframe\n",
        "for main_topic, subtopics in label_map.items():\n",
        "    for subtopic in subtopics:\n",
        "        if subtopic not in main_topic_predictions_df.columns:\n",
        "            main_topic_predictions_df[subtopic] = 0\n",
        "\n",
        "# Process each main topic and its subtopics stepwise\n",
        "for main_topic, subtopics in label_map.items():\n",
        "    print(f\"Processing main topic: {main_topic} for the subtopics: {subtopics}\")\n",
        "    \n",
        "    # If there's only one subtopic, directly assign the main topic's prediction to the subtopic\n",
        "    if len(subtopics) == 1:\n",
        "        subtopic = subtopics[0]\n",
        "        main_topic_predictions_df[subtopic] = main_topic_predictions_df[main_topic].astype(int)\n",
        "        continue \n",
        "\n",
        "    # Filter training data for the current main topic\n",
        "    train_df = train_data[train_data[main_topic] == 1].copy()\n",
        "    train_df['labels'] = train_df[subtopics].values.tolist()\n",
        "\n",
        "    # Filter valid data and initialize subtopic labels\n",
        "    valid_df = main_topic_predictions_df[main_topic_predictions_df[main_topic] == 1].copy()\n",
        "    valid_df['labels'] = valid_df[subtopics].values.tolist()\n",
        "\n",
        "    # After filtering to get the train and valid datasets, reset the index\n",
        "    train_subtopic_df = train_df[['id', 'text', 'labels']].reset_index(drop=True)\n",
        "    valid_subtopic_df = valid_df[['id', 'text', 'labels']].reset_index(drop=True)\n",
        "\n",
        "    train_set = MultiLabelDataset(train_subtopic_df, tokenizer, MAX_LEN)\n",
        "    valid_set = MultiLabelDataset(valid_subtopic_df, tokenizer, MAX_LEN)\n",
        "    training_loader = DataLoader(train_set, batch_size=BATCH_SIZE, shuffle=True)\n",
        "    valid_loader = DataLoader(valid_set, batch_size=BATCH_SIZE, shuffle=False)\n",
        "    \n",
        "    # Model, Optimizer and Scheduler setup\n",
        "    model = BERTClass(len(subtopics)).to(device)\n",
        "    optimizer = torch.optim.Adam(model.parameters(), lr=LEARNING_RATE)\n",
        "    scheduler = torch.optim.lr_scheduler.StepLR(optimizer, step_size=1, gamma=0.95)\n",
        "\n",
        "    # Train model\n",
        "    for epoch in range(EPOCHS):\n",
        "        train(model, device, training_loader, epoch, optimizer, scheduler)    \n",
        "    # Evaluate the model\n",
        "    subtopic_outputs, _ = validation(model, valid_loader, device)\n",
        "    subtopic_outputs = np.array(subtopic_outputs) >= THRESHOLD\n",
        "    subtopic_outputs = np.array(subtopic_outputs, dtype=int)\n",
        "\n",
        "    # Update the predictions dataframe with new subtopic predictions\n",
        "    subtopic_predictions_df = pd.DataFrame(subtopic_outputs, columns=subtopics)\n",
        "    subtopic_predictions_df['id'] = valid_subtopic_df['id'].values  # Add ID for reference\n",
        "\n",
        "    for index, row in subtopic_predictions_df.iterrows():\n",
        "        match_index = main_topic_predictions_df[main_topic_predictions_df['id'] == row['id']].index\n",
        "        for subtopic in subtopics:\n",
        "            main_topic_predictions_df.loc[match_index, subtopic] = row[subtopic]\n",
        "    \n",
        "    print(f\"Completed processing for {main_topic}\")\n",
        "\n",
        "# Save the final updated main topics CSV with all subtopics predictions included\n",
        "main_topic_predictions_df.to_csv('../model_predictions/bert_predictions_valid_2step.csv', sep=';', index=False)  # or '../model_predictions/bert_predictions_valid_2step_undersampled.csv' / '../model_predictions/bert_predictions_valid_2step_oversampled.csv'\n",
        "print(\"All predictions saved.\")"
      ]
    },
    {
      "cell_type": "code",
      "execution_count": null,
      "metadata": {},
      "outputs": [],
      "source": [
        "# Performance evaluation\n",
        "predictions = pd.read_csv('../model_predictions/bert_predictions_valid_2step.csv', sep=';') # or '../model_predictions/bert_predictions_valid_2step_undersampled.csv' / '../model_predictions/bert_predictions_valid_2step_oversampled.csv'\n",
        "gold_data = pd.read_csv('../data/validation.csv', sep=';')\n",
        "\n",
        "# Sort and align by 'id'\n",
        "gold_data.sort_values('id', inplace=True)\n",
        "predictions.sort_values('id', inplace=True)\n",
        "assert all(gold_data['id'] == predictions['id']), \"IDs do not match between gold data and predictions.\"\n",
        "\n",
        "# Extract gold labels and predicted labels\n",
        "labels = [col for col in gold_data.columns if col not in ['id', 'text']]\n",
        "gold_labels = gold_data[labels]\n",
        "predicted_labels = predictions[labels]\n",
        "\n",
        "class_report = classification_report(gold_labels, predicted_labels, target_names=labels, zero_division=0)\n",
        "print(class_report)\n",
        "hamm_loss = hamming_loss(gold_labels, predicted_labels)\n",
        "print(f\"Hamming Loss: {hamm_loss}\")"
      ]
    },
    {
      "cell_type": "markdown",
      "metadata": {},
      "source": [
        "### Saving the trained model and vocabulary\n",
        "<a id='section06'></a>\n",
        "\n",
        "This is the final step in the process of fine-tuning the model. The model for predicting the main topics and its vocabulary are saved locally. These files are then used in the future to make inference on new feedback instances (such as the test set)."
      ]
    },
    {
      "cell_type": "code",
      "execution_count": null,
      "metadata": {},
      "outputs": [],
      "source": [
        "torch.save(model, '../models/pytorch_bert_MLTC_mainonly.bin') # or '../models/pytorch_bert_MLTC_mainonly_oversampled.bin' / '../models/pytorch_bert_MLTC_mainonly_undersampled.bin'\n",
        "tokenizer.save_vocabulary('../models/vocab_bert_MLTC_mainonly.bin') # or '../models/vocab_bert_MLTC_mainonly_oversampled.bin' / '../models/vocab_bert_MLTC_mainonly_undersampled.bin'"
      ]
    },
    {
      "cell_type": "markdown",
      "metadata": {},
      "source": [
        "### Evaluate on the test data\n",
        "<a id='section07'></a>\n",
        "\n",
        "We are now loading the saved model and the test data and use it for final evaluation of the model."
      ]
    },
    {
      "cell_type": "code",
      "execution_count": null,
      "metadata": {},
      "outputs": [],
      "source": [
        "device = 'cuda' if torch.cuda.is_available() else 'cpu'\n",
        "tokenizer = BertTokenizer.from_pretrained('../models/vocab_bert_MLTC_mainonly.bin') # or '../models/vocab_bert_MLTC_mainonly_oversampled.bin' / '../models/vocab_bert_MLTC_mainonly_undersampled.bin'\n",
        "model = torch.load('../models/pytorch_bert_MLTC_mainonly.bin') # or '../models/pytorch_bert_MLTC_mainonly_oversampled.bin' / '../models/pytorch_bert_MLTC_mainonly_undersampled.bin'\n",
        "model.to(device)"
      ]
    },
    {
      "cell_type": "markdown",
      "metadata": {},
      "source": [
        "Phase 1: Main topic prediction"
      ]
    },
    {
      "cell_type": "code",
      "execution_count": null,
      "metadata": {},
      "outputs": [],
      "source": [
        "outputs, targets = validation(model, test_loader, device)\n",
        "outputs = np.array(outputs) >= THRESHOLD\n",
        "outputs = np.array(outputs, dtype=int)\n",
        "targets = np.array(targets, dtype=int)\n",
        "target_names = [label_map_mt[str(i)] for i in range(outputs.shape[1])]\n",
        "\n",
        "# Create DataFrame for results and save to CSV\n",
        "results_df = pd.DataFrame(outputs, columns=target_names)\n",
        "results_df['id'] = test_df['id'].values  # Adding ID for reference\n",
        "results_df['text'] = test_df['text'].values  # Adding text for reference\n",
        "results_df = results_df[['id', 'text'] + target_names]\n",
        "results_df.to_csv('../model_predictions/bert_predictions_test_maintopics.csv', sep=';', index=False) # or '../model_predictions/bert_predictions_test_maintopics_oversampled.csv' / '../model_predictions/bert_predictions_test_maintopics_undersampled.csv'"
      ]
    },
    {
      "cell_type": "markdown",
      "metadata": {},
      "source": [
        "Phase 2: Subtopic prediction"
      ]
    },
    {
      "cell_type": "code",
      "execution_count": null,
      "metadata": {},
      "outputs": [],
      "source": [
        "# Load the predictions of phase 1\n",
        "main_topic_predictions_df = pd.read_csv('../model_predictions/bert_predictions_test_maintopics.csv', sep=';') # or '../model_predictions/bert_predictions_test_maintopics_oversampled.csv' / '../model_predictions/bert_predictions_test_maintopics_undersampled.csv'\n",
        "\n",
        "# Create new columns for the subtopics in the dataframe\n",
        "for main_topic, subtopics in label_map.items():\n",
        "    for subtopic in subtopics:\n",
        "        if subtopic not in main_topic_predictions_df.columns:\n",
        "            main_topic_predictions_df[subtopic] = 0\n",
        "\n",
        "# Process each main topic and its subtopics stepwise\n",
        "for main_topic, subtopics in label_map.items():\n",
        "    print(f\"Processing main topic: {main_topic} for the subtopics: {subtopics}\")\n",
        "    \n",
        "    # If there's only one subtopic, directly assign the main topic's prediction to the subtopic\n",
        "    if len(subtopics) == 1:\n",
        "        subtopic = subtopics[0]\n",
        "        main_topic_predictions_df[subtopic] = main_topic_predictions_df[main_topic].astype(int)\n",
        "        continue \n",
        "\n",
        "    # Filter training data for the current main topic\n",
        "    train_df = train_data[train_data[main_topic] == 1].copy()\n",
        "    train_df['labels'] = train_df[subtopics].values.tolist()\n",
        "\n",
        "    # Filter valid data and initialize subtopic labels\n",
        "    valid_df = main_topic_predictions_df[main_topic_predictions_df[main_topic] == 1].copy()\n",
        "    valid_df['labels'] = valid_df[subtopics].values.tolist()\n",
        "\n",
        "    # After filtering to get the train and valid datasets, reset the index\n",
        "    train_subtopic_df = train_df[['id', 'text', 'labels']].reset_index(drop=True)\n",
        "    valid_subtopic_df = valid_df[['id', 'text', 'labels']].reset_index(drop=True)\n",
        "\n",
        "    train_set = MultiLabelDataset(train_subtopic_df, tokenizer, MAX_LEN)\n",
        "    valid_set = MultiLabelDataset(valid_subtopic_df, tokenizer, MAX_LEN)\n",
        "    training_loader = DataLoader(train_set, batch_size=BATCH_SIZE, shuffle=True)\n",
        "    valid_loader = DataLoader(valid_set, batch_size=BATCH_SIZE, shuffle=False)\n",
        "    \n",
        "    # Model, Optimizer and Scheduler setup\n",
        "    model = BERTClass(len(subtopics)).to(device)\n",
        "    optimizer = torch.optim.Adam(model.parameters(), lr=LEARNING_RATE)\n",
        "    scheduler = torch.optim.lr_scheduler.StepLR(optimizer, step_size=1, gamma=0.95)\n",
        "\n",
        "    # Train model\n",
        "    for epoch in range(EPOCHS):\n",
        "        train(model, device, training_loader, epoch, optimizer, scheduler)    \n",
        "    \n",
        "    # Evaluate the model\n",
        "    subtopic_outputs, _ = validation(model, valid_loader, device)\n",
        "    subtopic_outputs = np.array(subtopic_outputs) >= THRESHOLD\n",
        "    subtopic_outputs = np.array(subtopic_outputs, dtype=int)\n",
        "\n",
        "    # Update the predictions dataframe with new subtopic predictions\n",
        "    subtopic_predictions_df = pd.DataFrame(subtopic_outputs, columns=subtopics)\n",
        "    subtopic_predictions_df['id'] = valid_subtopic_df['id'].values  # Add ID for reference\n",
        "\n",
        "    for index, row in subtopic_predictions_df.iterrows():\n",
        "        match_index = main_topic_predictions_df[main_topic_predictions_df['id'] == row['id']].index\n",
        "        for subtopic in subtopics:\n",
        "            main_topic_predictions_df.loc[match_index, subtopic] = row[subtopic]\n",
        "    \n",
        "    print(f\"Completed processing for {main_topic}\")\n",
        "\n",
        "# Save the final updated main topics CSV with all subtopics predictions included\n",
        "main_topic_predictions_df.to_csv('../model_predictions/bert_predictions_test_2step.csv', sep=';', index=False) # or '../model_predictions/bert_predictions_test_2step_oversampled.csv' / '../model_predictions/bert_predictions_test_2step_undersampled.csv'\n",
        "print(\"All predictions saved.\")"
      ]
    },
    {
      "cell_type": "code",
      "execution_count": null,
      "metadata": {},
      "outputs": [],
      "source": [
        "# Performance results\n",
        "predictions = pd.read_csv('../model_predictions/bert_predictions_test_2step.csv', sep=';') # or '../model_predictions/bert_predictions_test_main_and_subtopics_oversampled.csv' / '../model_predictions/bert_predictions_test_main_and_subtopics_undersampled.csv'\n",
        "gold_data = pd.read_csv('../data/test.csv', sep=';')\n",
        "\n",
        "# Sort and align by 'id'\n",
        "gold_data.sort_values('id', inplace=True)\n",
        "predictions.sort_values('id', inplace=True)\n",
        "assert all(gold_data['id'] == predictions['id']), \"IDs do not match between gold data and predictions.\"\n",
        "\n",
        "# Extract gold labels and predicted labels\n",
        "labels = [col for col in gold_data.columns if col not in ['id', 'text']]\n",
        "gold_labels = gold_data[labels]\n",
        "predicted_labels = predictions[labels]\n",
        "\n",
        "class_report = classification_report(gold_labels, predicted_labels, target_names=labels, zero_division=0, output_dict=True)\n",
        "print(classification_report(gold_labels, predicted_labels, target_names=labels, zero_division=0))\n",
        "hamm_loss = hamming_loss(gold_labels, predicted_labels)\n",
        "print(f\"Hamming Loss: {hamm_loss}\")\n",
        "print_confusion_matrices(predicted_labels.to_numpy(), gold_labels.to_numpy(), labels)\n",
        "\n",
        "report_df = pd.DataFrame(class_report).transpose()\n",
        "report_df = report_df.round(3) \n",
        "report_df.to_csv('../results/bert/test_report_2step.csv', sep=';', index=True) # or '../results/bert/test_report_2step_oversampled.csv' / '../results/bert/test_report_2step_undersampled.csv'\n",
        "print(\"Classification report saved to file.\")"
      ]
    },
    {
      "cell_type": "markdown",
      "metadata": {},
      "source": [
        "End of the notebook."
      ]
    }
  ],
  "metadata": {
    "accelerator": "GPU",
    "colab": {
      "authorship_tag": "ABX9TyMYFn2H5CH0K8Hce4nsXrwt",
      "collapsed_sections": [],
      "include_colab_link": true,
      "mount_file_id": "15ZXLCtJmBmByqWLkJsyuRuidGunSQt3c",
      "name": "Transformers_multilabel_distilbert.ipynb",
      "provenance": [],
      "toc_visible": true
    },
    "kernelspec": {
      "display_name": "Python 3",
      "name": "python3"
    },
    "language_info": {
      "codemirror_mode": {
        "name": "ipython",
        "version": 3
      },
      "file_extension": ".py",
      "mimetype": "text/x-python",
      "name": "python",
      "nbconvert_exporter": "python",
      "pygments_lexer": "ipython3",
      "version": "3.7.8"
    }
  },
  "nbformat": 4,
  "nbformat_minor": 0
}
